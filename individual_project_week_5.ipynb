{
 "cells": [
  {
   "cell_type": "code",
   "execution_count": 13,
   "id": "8aa0d503",
   "metadata": {},
   "outputs": [
    {
     "name": "stdout",
     "output_type": "stream",
     "text": [
      "For a 30-year mortgage loan of $100,000 at an annual interest rate of 7.50%  you pay :$699.21 monthly\n",
      "....................................................\n",
      "\n",
      "Total amount paid will be $251717.22\n"
     ]
    }
   ],
   "source": [
    "# P = The total amount of your loan\n",
    "P = float(100000)\n",
    "# N = The total amount of months in your timeline for paying off your mortgage\n",
    "N = float(30) * 12\n",
    "# i = Your interest rate, as a monthly percentage\n",
    "i = 7.5\n",
    "i = float(i)/100/12\n",
    "# M = Total monthly payment\n",
    "M = P * (i * (1 + i) ** N) / ((1 + i) ** N - 1)\n",
    "\n",
    "print(f\"For a 30-year mortgage loan of $100,000 at an annual interest rate of 7.50%  you pay :${round(M,2)} monthly\")\n",
    "print(\"....................................................\\n\")\n",
    "T = float(M)*float(N)\n",
    "print(f\"Total amount paid will be ${round(T,2)}\")"
   ]
  },
  {
   "cell_type": "code",
   "execution_count": null,
   "id": "30397973",
   "metadata": {},
   "outputs": [],
   "source": []
  }
 ],
 "metadata": {
  "kernelspec": {
   "display_name": "Python 3 (ipykernel)",
   "language": "python",
   "name": "python3"
  },
  "language_info": {
   "codemirror_mode": {
    "name": "ipython",
    "version": 3
   },
   "file_extension": ".py",
   "mimetype": "text/x-python",
   "name": "python",
   "nbconvert_exporter": "python",
   "pygments_lexer": "ipython3",
   "version": "3.10.9"
  }
 },
 "nbformat": 4,
 "nbformat_minor": 5
}
