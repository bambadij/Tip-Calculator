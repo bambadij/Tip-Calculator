{
 "cells": [
  {
   "cell_type": "code",
   "execution_count": 5,
   "id": "a3609487",
   "metadata": {},
   "outputs": [
    {
     "name": "stdout",
     "output_type": "stream",
     "text": [
      "Welcome to Group 9 Restaurant where Success is our Hallmark\n",
      "Please enter the charge amount: 7888\n",
      "Amount = 7888.0 USD\n",
      "Tip = 1419.84 USD\n",
      "Tax = 552.16 USD\n",
      "Thank you for visiting Group 9 Restaurant, Your total amount is 9860.0 USD\n"
     ]
    }
   ],
   "source": [
    "print('Welcome to Group 9 Restaurant where Success is our Hallmark')\n",
    "\n",
    "amount = float(input('Please enter the charge amount: '))\n",
    "\n",
    "\n",
    "\n",
    "\n",
    "#Calculate 18% tip and 7% tax\n",
    "\n",
    "Tip = amount * 18/100\n",
    "\n",
    "\n",
    "\n",
    "\n",
    "sales_tax = amount * .07\n",
    "\n",
    "\n",
    "\n",
    "\n",
    "total_amount = amount + Tip + sales_tax\n",
    "\n",
    "\n",
    "\n",
    "\n",
    "#Display the amount of Tip and tax\n",
    "\n",
    "print(f'Amount = {amount} USD')\n",
    "\n",
    "print(f'Tip = {Tip} USD')\n",
    "\n",
    "print(f'Tax = {round(sales_tax, 2)} USD',)\n",
    "\n",
    "print(f'Thank you for visiting Group 9 Restaurant, Your total amount is {total_amount} USD')\n",
    "\n"
   ]
  },
  {
   "cell_type": "code",
   "execution_count": null,
   "id": "d3c21d78",
   "metadata": {},
   "outputs": [],
   "source": []
  }
 ],
 "metadata": {
  "kernelspec": {
   "display_name": "Python 3 (ipykernel)",
   "language": "python",
   "name": "python3"
  },
  "language_info": {
   "codemirror_mode": {
    "name": "ipython",
    "version": 3
   },
   "file_extension": ".py",
   "mimetype": "text/x-python",
   "name": "python",
   "nbconvert_exporter": "python",
   "pygments_lexer": "ipython3",
   "version": "3.10.9"
  }
 },
 "nbformat": 4,
 "nbformat_minor": 5
}
